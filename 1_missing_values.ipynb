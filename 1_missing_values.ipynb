{
 "cells": [
  {
   "cell_type": "markdown",
   "id": "3c0e5891",
   "metadata": {},
   "source": [
    "Checking the Missing values first"
   ]
  },
  {
   "cell_type": "markdown",
   "id": "f3ab3634",
   "metadata": {},
   "source": [
    "Types of Missing Data\n",
    "\n",
    "MCAR (Missing Completely at Random)\n",
    "\n",
    "Missingness has no relationship with any other variable.\n",
    "\n",
    "Example: A survey response accidentally skipped.\n",
    "\n",
    "MAR (Missing at Random)\n",
    "\n",
    "Missingness depends on other observed variables.\n",
    "\n",
    "Example: Income data missing more often for younger respondents.\n",
    "\n",
    "MNAR (Missing Not at Random)\n",
    "\n",
    "Missingness depends on the missing value itself.\n",
    "\n",
    "Example: People with high income are less likely to report it.\n",
    "\n",
    "The type affects which handling method is most appropriate."
   ]
  },
  {
   "cell_type": "code",
   "execution_count": null,
   "id": "c8aaab64",
   "metadata": {},
   "outputs": [],
   "source": [
    "import seaborn as sns\n",
    "import matplotlib.pyplot as plt\n"
   ]
  },
  {
   "cell_type": "code",
   "execution_count": 73,
   "id": "a06f82f4",
   "metadata": {},
   "outputs": [
    {
     "data": {
      "text/html": [
       "<div>\n",
       "<style scoped>\n",
       "    .dataframe tbody tr th:only-of-type {\n",
       "        vertical-align: middle;\n",
       "    }\n",
       "\n",
       "    .dataframe tbody tr th {\n",
       "        vertical-align: top;\n",
       "    }\n",
       "\n",
       "    .dataframe thead th {\n",
       "        text-align: right;\n",
       "    }\n",
       "</style>\n",
       "<table border=\"1\" class=\"dataframe\">\n",
       "  <thead>\n",
       "    <tr style=\"text-align: right;\">\n",
       "      <th></th>\n",
       "      <th>survived</th>\n",
       "      <th>pclass</th>\n",
       "      <th>sex</th>\n",
       "      <th>age</th>\n",
       "      <th>sibsp</th>\n",
       "      <th>parch</th>\n",
       "      <th>fare</th>\n",
       "      <th>embarked</th>\n",
       "      <th>class</th>\n",
       "      <th>who</th>\n",
       "      <th>adult_male</th>\n",
       "      <th>deck</th>\n",
       "      <th>embark_town</th>\n",
       "      <th>alive</th>\n",
       "      <th>alone</th>\n",
       "    </tr>\n",
       "  </thead>\n",
       "  <tbody>\n",
       "    <tr>\n",
       "      <th>0</th>\n",
       "      <td>0</td>\n",
       "      <td>3</td>\n",
       "      <td>male</td>\n",
       "      <td>22.0</td>\n",
       "      <td>1</td>\n",
       "      <td>0</td>\n",
       "      <td>7.2500</td>\n",
       "      <td>S</td>\n",
       "      <td>Third</td>\n",
       "      <td>man</td>\n",
       "      <td>True</td>\n",
       "      <td>NaN</td>\n",
       "      <td>Southampton</td>\n",
       "      <td>no</td>\n",
       "      <td>False</td>\n",
       "    </tr>\n",
       "    <tr>\n",
       "      <th>1</th>\n",
       "      <td>1</td>\n",
       "      <td>1</td>\n",
       "      <td>female</td>\n",
       "      <td>38.0</td>\n",
       "      <td>1</td>\n",
       "      <td>0</td>\n",
       "      <td>71.2833</td>\n",
       "      <td>C</td>\n",
       "      <td>First</td>\n",
       "      <td>woman</td>\n",
       "      <td>False</td>\n",
       "      <td>C</td>\n",
       "      <td>Cherbourg</td>\n",
       "      <td>yes</td>\n",
       "      <td>False</td>\n",
       "    </tr>\n",
       "    <tr>\n",
       "      <th>2</th>\n",
       "      <td>1</td>\n",
       "      <td>3</td>\n",
       "      <td>female</td>\n",
       "      <td>26.0</td>\n",
       "      <td>0</td>\n",
       "      <td>0</td>\n",
       "      <td>7.9250</td>\n",
       "      <td>S</td>\n",
       "      <td>Third</td>\n",
       "      <td>woman</td>\n",
       "      <td>False</td>\n",
       "      <td>NaN</td>\n",
       "      <td>Southampton</td>\n",
       "      <td>yes</td>\n",
       "      <td>True</td>\n",
       "    </tr>\n",
       "    <tr>\n",
       "      <th>3</th>\n",
       "      <td>1</td>\n",
       "      <td>1</td>\n",
       "      <td>female</td>\n",
       "      <td>35.0</td>\n",
       "      <td>1</td>\n",
       "      <td>0</td>\n",
       "      <td>53.1000</td>\n",
       "      <td>S</td>\n",
       "      <td>First</td>\n",
       "      <td>woman</td>\n",
       "      <td>False</td>\n",
       "      <td>C</td>\n",
       "      <td>Southampton</td>\n",
       "      <td>yes</td>\n",
       "      <td>False</td>\n",
       "    </tr>\n",
       "    <tr>\n",
       "      <th>4</th>\n",
       "      <td>0</td>\n",
       "      <td>3</td>\n",
       "      <td>male</td>\n",
       "      <td>35.0</td>\n",
       "      <td>0</td>\n",
       "      <td>0</td>\n",
       "      <td>8.0500</td>\n",
       "      <td>S</td>\n",
       "      <td>Third</td>\n",
       "      <td>man</td>\n",
       "      <td>True</td>\n",
       "      <td>NaN</td>\n",
       "      <td>Southampton</td>\n",
       "      <td>no</td>\n",
       "      <td>True</td>\n",
       "    </tr>\n",
       "  </tbody>\n",
       "</table>\n",
       "</div>"
      ],
      "text/plain": [
       "   survived  pclass     sex   age  sibsp  parch     fare embarked  class  \\\n",
       "0         0       3    male  22.0      1      0   7.2500        S  Third   \n",
       "1         1       1  female  38.0      1      0  71.2833        C  First   \n",
       "2         1       3  female  26.0      0      0   7.9250        S  Third   \n",
       "3         1       1  female  35.0      1      0  53.1000        S  First   \n",
       "4         0       3    male  35.0      0      0   8.0500        S  Third   \n",
       "\n",
       "     who  adult_male deck  embark_town alive  alone  \n",
       "0    man        True  NaN  Southampton    no  False  \n",
       "1  woman       False    C    Cherbourg   yes  False  \n",
       "2  woman       False  NaN  Southampton   yes   True  \n",
       "3  woman       False    C  Southampton   yes  False  \n",
       "4    man        True  NaN  Southampton    no   True  "
      ]
     },
     "execution_count": 73,
     "metadata": {},
     "output_type": "execute_result"
    }
   ],
   "source": [
    "data = sns.load_dataset('titanic')\n",
    "data.head()"
   ]
  },
  {
   "cell_type": "code",
   "execution_count": 51,
   "id": "4ed460d9",
   "metadata": {},
   "outputs": [
    {
     "data": {
      "image/png": "[encoded data removed]",
      "text/plain": [
       "<Figure size 1000x600 with 1 Axes>"
      ]
     },
     "metadata": {},
     "output_type": "display_data"
    }
   ],
   "source": [
    "plt.figure(figsize=(10, 6))\n",
    "sns.heatmap(data.isnull(), cbar=False, cmap='viridis')\n",
    "plt.title('Missing Values Heatmap')\n",
    "plt.show()"
   ]
  },
  {
   "cell_type": "code",
   "execution_count": 52,
   "id": "2a2ca180",
   "metadata": {},
   "outputs": [
    {
     "data": {
      "text/plain": [
       "deck           688\n",
       "age            177\n",
       "embarked         2\n",
       "embark_town      2\n",
       "sex              0\n",
       "pclass           0\n",
       "survived         0\n",
       "fare             0\n",
       "parch            0\n",
       "sibsp            0\n",
       "class            0\n",
       "adult_male       0\n",
       "who              0\n",
       "alive            0\n",
       "alone            0\n",
       "dtype: int64"
      ]
     },
     "execution_count": 52,
     "metadata": {},
     "output_type": "execute_result"
    }
   ],
   "source": [
    "missing_values_count = data.isnull().sum().sort_values(ascending=False)\n",
    "missing_values_count"
   ]
  },
  {
   "cell_type": "markdown",
   "id": "ec0132c9",
   "metadata": {},
   "source": [
    "Handle the missing values for deck, age, embarked, embarked_town"
   ]
  },
  {
   "cell_type": "code",
   "execution_count": 55,
   "id": "31ce0aa3",
   "metadata": {},
   "outputs": [],
   "source": [
    "#First we need to check if we need those columns or not\n",
    "\n",
    "#For Age: We need that column so we will fill the missing values with mean or median\n",
    "#since the median is less affected by outliers we will use median\n",
    "data['age'] = data['age'].fillna(data['age'].median()) #we successfully filled the missing values in age column\n",
    "\n",
    "#For Deck: We can drop that column since it has too many missing values and it will be not useful for our analysis\n",
    "data = data.drop(columns=['deck']) #we successfully dropped the deck column\n",
    "\n",
    "#For Embarked: We can fill the missing values with the mode since it is a categorical column\n",
    "data['embarked'] = data['embarked'].fillna(data['embarked'].mode()[0]) #we successfully filled the missing values in embarked column\n",
    "\n",
    "#For Embarked_town: We can fill the missing values with the mode since it is a categorical column\n",
    "data['embark_town'] = data['embark_town'].fillna(data['embark_town'].mode()[0]) #we successfully filled the missing values in embark_town\n"
   ]
  },
  {
   "cell_type": "markdown",
   "id": "b1915409",
   "metadata": {},
   "source": [
    "Lets check if all the missing values are handle or not"
   ]
  },
  {
   "cell_type": "code",
   "execution_count": null,
   "id": "6b94f65c",
   "metadata": {},
   "outputs": [
    {
     "data": {
      "text/plain": [
       "survived       0\n",
       "pclass         0\n",
       "sex            0\n",
       "age            0\n",
       "sibsp          0\n",
       "parch          0\n",
       "fare           0\n",
       "embarked       0\n",
       "class          0\n",
       "who            0\n",
       "adult_male     0\n",
       "embark_town    0\n",
       "alive          0\n",
       "alone          0\n",
       "dtype: int64"
      ]
     },
     "execution_count": 56,
     "metadata": {},
     "output_type": "execute_result"
    }
   ],
   "source": [
    "data.isnull().sum() #successfully handled all the missing values "
   ]
  },
  {
   "cell_type": "markdown",
   "id": "2dbf8851",
   "metadata": {},
   "source": [
    "Handling Missing values using SK Learn"
   ]
  },
  {
   "cell_type": "code",
   "execution_count": 62,
   "id": "39e929b8",
   "metadata": {},
   "outputs": [
    {
     "data": {
      "text/plain": [
       "survived         0\n",
       "pclass           0\n",
       "sex              0\n",
       "age            177\n",
       "sibsp            0\n",
       "parch            0\n",
       "fare             0\n",
       "embarked         2\n",
       "class            0\n",
       "who              0\n",
       "adult_male       0\n",
       "deck           688\n",
       "embark_town      2\n",
       "alive            0\n",
       "alone            0\n",
       "dtype: int64"
      ]
     },
     "execution_count": 62,
     "metadata": {},
     "output_type": "execute_result"
    }
   ],
   "source": [
    "data.isnull().sum()"
   ]
  },
  {
   "cell_type": "code",
   "execution_count": null,
   "id": "070aadf7",
   "metadata": {},
   "outputs": [],
   "source": [
    "from sklearn.impute import SimpleImputer\n",
    "\n",
    "\n",
    "# Create an imputer object with a median filling strategy the missing values will be handle by its own column\n",
    "imputer = SimpleImputer(strategy='median')\n",
    "data['age'] = imputer.fit_transform(data[['age']])"
   ]
  },
  {
   "cell_type": "code",
   "execution_count": 64,
   "id": "568bdbd0",
   "metadata": {},
   "outputs": [
    {
     "data": {
      "text/plain": [
       "survived         0\n",
       "pclass           0\n",
       "sex              0\n",
       "age              0\n",
       "sibsp            0\n",
       "parch            0\n",
       "fare             0\n",
       "embarked         2\n",
       "class            0\n",
       "who              0\n",
       "adult_male       0\n",
       "deck           688\n",
       "embark_town      2\n",
       "alive            0\n",
       "alone            0\n",
       "dtype: int64"
      ]
     },
     "execution_count": 64,
     "metadata": {},
     "output_type": "execute_result"
    }
   ],
   "source": [
    "data.isnull().sum()"
   ]
  },
  {
   "cell_type": "markdown",
   "id": "01bdd8e9",
   "metadata": {},
   "source": [
    "MultiVariate Imputer\n",
    "\n",
    "The missing values column will be handle by considering its neighbouring feature/columns as well\n",
    "And this method is quite better then the simple/single Variate Imputer"
   ]
  },
  {
   "cell_type": "code",
   "execution_count": 71,
   "id": "706bdd2e",
   "metadata": {},
   "outputs": [],
   "source": [
    "from sklearn.experimental import enable_iterative_imputer  # Required to enable\n",
    "from sklearn.impute import IterativeImputer\n",
    "\n",
    "imputer = IterativeImputer()\n",
    "data['age'] = imputer.fit_transform(data[['age']])"
   ]
  },
  {
   "cell_type": "code",
   "execution_count": 72,
   "id": "2fa9e7df",
   "metadata": {},
   "outputs": [
    {
     "data": {
      "text/plain": [
       "survived         0\n",
       "pclass           0\n",
       "sex              0\n",
       "age              0\n",
       "sibsp            0\n",
       "parch            0\n",
       "fare             0\n",
       "embarked         2\n",
       "class            0\n",
       "who              0\n",
       "adult_male       0\n",
       "deck           688\n",
       "embark_town      2\n",
       "alive            0\n",
       "alone            0\n",
       "dtype: int64"
      ]
     },
     "execution_count": 72,
     "metadata": {},
     "output_type": "execute_result"
    }
   ],
   "source": [
    "data.isnull().sum()"
   ]
  },
  {
   "cell_type": "markdown",
   "id": "a1794c1a",
   "metadata": {},
   "source": [
    "We can handle the missing values using the techniques called the Forward Fill and Backward Fill\n",
    "\n",
    "import pandas as pd\n",
    "import numpy as np\n",
    "\n",
    "# Example dataset\n",
    "data = {\n",
    "    'Age': [25, np.nan, 30, 35, np.nan],\n",
    "    'Salary': [50000, 60000, np.nan, 80000, 75000]\n",
    "}\n",
    "\n",
    "df = pd.DataFrame(data)\n",
    "print(\"Original Data:\")\n",
    "print(df)\n",
    "\n",
    "# Forward fill\n",
    "df_ffill = df.fillna(method='ffill')\n",
    "print(\"\\nAfter Forward Fill:\")\n",
    "print(df_ffill)\n",
    "\n",
    "\n",
    "# Backward fill\n",
    "df_bfill = df.fillna(method='bfill')\n",
    "print(\"\\nAfter Backward Fill:\")\n",
    "print(df_bfill)\n",
    "\n"
   ]
  },
  {
   "cell_type": "markdown",
   "id": "dad3b0f3",
   "metadata": {},
   "source": [
    "Handling the missing Values using the KNN Algo"
   ]
  },
  {
   "cell_type": "code",
   "execution_count": 74,
   "id": "2847ae93",
   "metadata": {},
   "outputs": [],
   "source": [
    "from sklearn.impute import KNNImputer\n",
    "\n",
    "imputer = KNNImputer(n_neighbors=5)\n",
    "data['age'] = imputer.fit_transform(data[['age']])"
   ]
  },
  {
   "cell_type": "code",
   "execution_count": 75,
   "id": "3ce6113a",
   "metadata": {},
   "outputs": [
    {
     "data": {
      "text/plain": [
       "survived         0\n",
       "pclass           0\n",
       "sex              0\n",
       "age              0\n",
       "sibsp            0\n",
       "parch            0\n",
       "fare             0\n",
       "embarked         2\n",
       "class            0\n",
       "who              0\n",
       "adult_male       0\n",
       "deck           688\n",
       "embark_town      2\n",
       "alive            0\n",
       "alone            0\n",
       "dtype: int64"
      ]
     },
     "execution_count": 75,
     "metadata": {},
     "output_type": "execute_result"
    }
   ],
   "source": [
    "data.isnull().sum()"
   ]
  },
  {
   "cell_type": "markdown",
   "id": "a78ff48e",
   "metadata": {},
   "source": [
    "\n",
    "\n",
    "Check missing percentage:\n",
    "\n",
    "If <5% missing → simple methods (mean/median) often suffice.\n",
    "\n",
    "If 5–20% → imputation like Iterative Imputer or KNN may be better.\n",
    "\n",
    "If >50% → consider dropping the feature unless it’s crucial.\n",
    "\n",
    "Consider your data type:\n",
    "\n",
    "Numerical → mean/median, iterative, KNN.\n",
    "\n",
    "Categorical → mode, or predictive imputation.\n",
    "\n",
    "Consider the model:\n",
    "\n",
    "Tree-based models (Random Forest, XGBoost) can handle missing values better.\n",
    "\n",
    "Linear models need proper imputation.\n",
    "\n",
    "Time series data:\n",
    "\n",
    "Forward fill, backward fill, or interpolation is often best."
   ]
  }
 ],
 "metadata": {
  "kernelspec": {
   "display_name": "venv",
   "language": "python",
   "name": "python3"
  },
  "language_info": {
   "codemirror_mode": {
    "name": "ipython",
    "version": 3
   },
   "file_extension": ".py",
   "mimetype": "text/x-python",
   "name": "python",
   "nbconvert_exporter": "python",
   "pygments_lexer": "ipython3",
   "version": "3.13.1"
  }
 },
 "nbformat": 4,
 "nbformat_minor": 5
}
