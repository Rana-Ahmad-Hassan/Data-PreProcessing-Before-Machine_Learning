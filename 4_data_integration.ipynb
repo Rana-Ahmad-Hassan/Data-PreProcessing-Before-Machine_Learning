{
 "cells": [
  {
   "cell_type": "markdown",
   "id": "fd3951f9",
   "metadata": {},
   "source": [
    "Data Merging"
   ]
  },
  {
   "cell_type": "code",
   "execution_count": 1,
   "id": "fd0ceaf2",
   "metadata": {},
   "outputs": [],
   "source": [
    "import pandas as pd"
   ]
  },
  {
   "cell_type": "code",
   "execution_count": 7,
   "id": "8e8f2089",
   "metadata": {},
   "outputs": [
    {
     "name": "stdout",
     "output_type": "stream",
     "text": [
      "DataFrame 1:\n",
      "   ID     Name\n",
      "0   1    Ahmad\n",
      "1   2    Momna\n",
      "2   3  Aliyaar\n",
      "\n",
      "DataFrame 2:\n",
      "   ID  Age        City\n",
      "0   1   25  Newzeeland\n",
      "1   2   26  Newzeeland\n",
      "2   3    1  Newzeeland\n",
      "\n",
      "Merged DataFrame on 'ID':\n",
      "   ID     Name  Age        City\n",
      "0   1    Ahmad   25  Newzeeland\n",
      "1   2    Momna   26  Newzeeland\n",
      "2   3  Aliyaar    1  Newzeeland\n"
     ]
    }
   ],
   "source": [
    "#create 2 sample dataframes\n",
    "df1 = pd.DataFrame({\n",
    "    'ID': [1, 2, 3],\n",
    "    'Name': ['Ahmad', 'Momna', 'Aliyaar']\n",
    "})\n",
    "df2 = pd.DataFrame({\n",
    "    'ID': [1, 2, 3],\n",
    "    'Age': [25, 26, 1],\n",
    "    'City': ['Newzeeland', 'Newzeeland', 'Newzeeland']\n",
    "})\n",
    "\n",
    "#data before merging\n",
    "print(\"DataFrame 1:\")\n",
    "print(df1)\n",
    "print(\"\\nDataFrame 2:\")\n",
    "print(df2)\n",
    "#merge dataframes on 'ID' column\n",
    "print(\"\\nMerged DataFrame on 'ID':\")\n",
    "merged_df = pd.merge(df1, df2, on='ID')\n",
    "print(merged_df)"
   ]
  },
  {
   "cell_type": "markdown",
   "id": "deafef43",
   "metadata": {},
   "source": [
    "Data Concatenation"
   ]
  },
  {
   "cell_type": "code",
   "execution_count": 8,
   "id": "59aacdfd",
   "metadata": {},
   "outputs": [
    {
     "name": "stdout",
     "output_type": "stream",
     "text": [
      "\n",
      "DataFrame 3:\n",
      "   ID    Name\n",
      "0   4    Zain\n",
      "1   5  Hassan\n",
      "2   6  Ayesha\n",
      "\n",
      "DataFrame 4:\n",
      "   ID   Name\n",
      "0   7   Sara\n",
      "1   8   Hina\n",
      "2   9  Kiran\n"
     ]
    }
   ],
   "source": [
    "#lets concatenate the data first we need to create 2 dataframes with same structure\n",
    "df3 = pd.DataFrame({\n",
    "    'ID': [4, 5, 6],\n",
    "    'Name': ['Zain', 'Hassan', 'Ayesha']\n",
    "})\n",
    "df4 = pd.DataFrame({\n",
    "    'ID': [7, 8, 9],\n",
    "    'Name': ['Sara', 'Hina', 'Kiran']\n",
    "})\n",
    "#data before concatenation\n",
    "print(\"\\nDataFrame 3:\")\n",
    "print(df3)  \n",
    "print(\"\\nDataFrame 4:\")\n",
    "print(df4)\n"
   ]
  },
  {
   "cell_type": "code",
   "execution_count": 9,
   "id": "24adbd12",
   "metadata": {},
   "outputs": [
    {
     "name": "stdout",
     "output_type": "stream",
     "text": [
      "\n",
      "Concatenated DataFrame:\n",
      "   ID    Name\n",
      "0   4    Zain\n",
      "1   5  Hassan\n",
      "2   6  Ayesha\n",
      "3   7    Sara\n",
      "4   8    Hina\n",
      "5   9   Kiran\n"
     ]
    }
   ],
   "source": [
    "#After concatenation\n",
    "print(\"\\nConcatenated DataFrame:\")\n",
    "concatenated_df = pd.concat([df3, df4], ignore_index=True)\n",
    "print(concatenated_df)"
   ]
  },
  {
   "cell_type": "markdown",
   "id": "5d64b187",
   "metadata": {},
   "source": [
    "Data Duplication"
   ]
  },
  {
   "cell_type": "code",
   "execution_count": 10,
   "id": "1c7af7d4",
   "metadata": {},
   "outputs": [
    {
     "name": "stdout",
     "output_type": "stream",
     "text": [
      "\n",
      "Original DataFrame with Duplicates:\n",
      "   ID     Name\n",
      "0   1    Ahmad\n",
      "1   2    Momna\n",
      "2   3  Aliyaar\n",
      "3   1    Ahmad\n"
     ]
    }
   ],
   "source": [
    "#Lets see data duplication\n",
    "#creating a sample dataframe\n",
    "df5 = pd.DataFrame({\n",
    "    'ID': [1, 2, 3, 1], \n",
    "    'Name': ['Ahmad', 'Momna', 'Aliyaar', 'Ahmad']\n",
    "})\n",
    "print(\"\\nOriginal DataFrame with Duplicates:\")\n",
    "print(df5)"
   ]
  },
  {
   "cell_type": "code",
   "execution_count": 11,
   "id": "5bbff2d7",
   "metadata": {},
   "outputs": [
    {
     "name": "stdout",
     "output_type": "stream",
     "text": [
      "\n",
      "DataFrame after removing duplicates:\n",
      "   ID     Name\n",
      "0   1    Ahmad\n",
      "1   2    Momna\n",
      "2   3  Aliyaar\n"
     ]
    }
   ],
   "source": [
    "#Lets remove the duplicates\n",
    "df5_no_duplicates = df5.drop_duplicates()\n",
    "print(\"\\nDataFrame after removing duplicates:\")\n",
    "print(df5_no_duplicates)"
   ]
  }
 ],
 "metadata": {
  "kernelspec": {
   "display_name": "venv",
   "language": "python",
   "name": "python3"
  },
  "language_info": {
   "codemirror_mode": {
    "name": "ipython",
    "version": 3
   },
   "file_extension": ".py",
   "mimetype": "text/x-python",
   "name": "python",
   "nbconvert_exporter": "python",
   "pygments_lexer": "ipython3",
   "version": "3.13.1"
  }
 },
 "nbformat": 4,
 "nbformat_minor": 5
}
