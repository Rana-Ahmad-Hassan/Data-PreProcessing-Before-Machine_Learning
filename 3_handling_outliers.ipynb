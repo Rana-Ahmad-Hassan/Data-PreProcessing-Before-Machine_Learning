{
 "cells": [
  {
   "cell_type": "markdown",
   "id": "24ee8a4d",
   "metadata": {},
   "source": [
    "Definition of Outliers\n",
    "\n",
    "An outlier is a data point that is significantly different from the rest of the data.\n",
    "\n",
    "It lies far away from most other observations.\n",
    "\n",
    "It may be due to natural variation, errors, or rare events.\n",
    "\n",
    "Outliers can bias statistical results and affect machine learning models.\n",
    "\n",
    "\n",
    "\n",
    "Types of Outliers\n",
    "\n",
    "1:Global Outliers (Point Anomalies)\n",
    "\n",
    "A data point that is far from all other data points.\n",
    "\n",
    "Example: A person’s weight recorded as 500 kg in a dataset of normal adult weights.\n",
    "\n",
    "Contextual Outliers (Conditional Anomalies)\n",
    "\n",
    "An observation that is unusual in a specific context.\n",
    "\n",
    "Example: 5°C in summer is abnormal, but normal in winter.\n",
    "\n",
    "2:Collective Outliers\n",
    "\n",
    "A group of data points that are unusual together, even if individual points are not.\n",
    "\n",
    "Example: A sequence of sudden spikes in network traffic → may indicate a cyber attack.\n",
    "\n",
    "3:Local Outliers\n",
    "\n",
    "A point that is normal globally but unusual in its neighborhood (subset).\n",
    "\n",
    "Example: 200 cm tall person is fine globally, but in a dataset of a specific classroom, it’s unusual.\n",
    "\n",
    "Any many others/........\n",
    "\n",
    "\n",
    "\n",
    "Causes of Outliers\n",
    "\n",
    "Measurement errors (e.g., typo: 10000 instead of 1000).\n",
    "\n",
    "Data entry errors.\n",
    "\n",
    "Natural variation (e.g., extremely tall or short people).\n",
    "\n",
    "Fraud or rare events (e.g., abnormal credit card transactions)."
   ]
  },
  {
   "cell_type": "markdown",
   "id": "e566474b",
   "metadata": {},
   "source": [
    "How to Detect Outliers\n",
    "\n",
    "Statistical Methods\n",
    "\n",
    "Z-score (>3 or <-3 = outlier).\n",
    "\n",
    "IQR (Interquartile Range rule: values outside Q1 - 1.5×IQR or Q3 + 1.5×IQR).\n",
    "\n",
    "Visualization\n",
    "\n",
    "Boxplot, scatter plot, histogram.\n",
    "\n",
    "Machine Learning\n",
    "\n",
    "Isolation Forest, DBSCAN, LOF (Local Outlier Factor).\n",
    "\n",
    "Any others methods as well................."
   ]
  },
  {
   "cell_type": "markdown",
   "id": "6b8cbe21",
   "metadata": {},
   "source": [
    "Handling and checking The ouliers using the z-score method"
   ]
  },
  {
   "cell_type": "code",
   "execution_count": 1,
   "id": "12efb7d0",
   "metadata": {},
   "outputs": [],
   "source": [
    "import numpy as np\n",
    "import pandas as pd"
   ]
  },
  {
   "cell_type": "code",
   "execution_count": 4,
   "id": "e08801a7",
   "metadata": {},
   "outputs": [
    {
     "name": "stdout",
     "output_type": "stream",
     "text": [
      "Original Data:\n",
      "   value\n",
      "0     10\n",
      "1     12\n",
      "2     12\n",
      "3     13\n",
      "4     12\n",
      "5     11\n",
      "6     14\n",
      "7     13\n",
      "8    100\n"
     ]
    }
   ],
   "source": [
    "#creating the data with outliers\n",
    "data = pd.DataFrame({'value': [10, 12, 12, 13, 12, 11, 14, 13, 100]})\n",
    "print(\"Original Data:\")\n",
    "print(data)"
   ]
  },
  {
   "cell_type": "code",
   "execution_count": 5,
   "id": "d85adb5a",
   "metadata": {},
   "outputs": [
    {
     "name": "stdout",
     "output_type": "stream",
     "text": [
      "\n",
      "Data with Z-scores:\n",
      "   value   z_score\n",
      "0     10 -0.405558\n",
      "1     12 -0.337334\n",
      "2     12 -0.337334\n",
      "3     13 -0.303221\n",
      "4     12 -0.337334\n",
      "5     11 -0.371446\n",
      "6     14 -0.269109\n",
      "7     13 -0.303221\n",
      "8    100  2.664557\n"
     ]
    }
   ],
   "source": [
    "#lets check for outliers using z-score method\n",
    "#z-score = (X - mean) / std_dev\n",
    "mean = data['value'].mean()\n",
    "std = data['value'].std()\n",
    "data['z_score'] = (data['value'] - mean) / std\n",
    "print(\"\\nData with Z-scores:\")  \n",
    "print(data)"
   ]
  },
  {
   "cell_type": "code",
   "execution_count": 9,
   "id": "5725af4f",
   "metadata": {},
   "outputs": [
    {
     "name": "stdout",
     "output_type": "stream",
     "text": [
      "\n",
      "Data after removing outliers:\n",
      "   value   z_score\n",
      "0     10 -0.405558\n",
      "1     12 -0.337334\n",
      "2     12 -0.337334\n",
      "3     13 -0.303221\n",
      "4     12 -0.337334\n",
      "5     11 -0.371446\n",
      "6     14 -0.269109\n",
      "7     13 -0.303221\n"
     ]
    }
   ],
   "source": [
    "#lets filter out the outliers\n",
    "threshold = 2\n",
    "data = data[data['z_score']<=threshold]\n",
    "print(\"\\nData after removing outliers:\")\n",
    "print(data)"
   ]
  },
  {
   "cell_type": "markdown",
   "id": "4953926d",
   "metadata": {},
   "source": [
    "Lets handle the outliers using z-score but with the scipy library"
   ]
  },
  {
   "cell_type": "code",
   "execution_count": 10,
   "id": "30554fdb",
   "metadata": {},
   "outputs": [],
   "source": [
    "from scipy import stats"
   ]
  },
  {
   "cell_type": "code",
   "execution_count": 11,
   "id": "ee117ad0",
   "metadata": {},
   "outputs": [
    {
     "name": "stdout",
     "output_type": "stream",
     "text": [
      "Original Data:\n",
      "   value\n",
      "0     10\n",
      "1     12\n",
      "2     12\n",
      "3     13\n",
      "4     12\n",
      "5     11\n",
      "6     14\n",
      "7     13\n",
      "8    100\n"
     ]
    }
   ],
   "source": [
    "#data with outliers\n",
    "data = pd.DataFrame({'value': [10, 12, 12, 13, 12, 11, 14, 13, 100]})\n",
    "print(\"Original Data:\")\n",
    "print(data)"
   ]
  },
  {
   "cell_type": "code",
   "execution_count": 12,
   "id": "d1b04e66",
   "metadata": {},
   "outputs": [
    {
     "name": "stdout",
     "output_type": "stream",
     "text": [
      "\n",
      "Data after removing outliers using scipy:\n",
      "   value   z_score\n",
      "0     10  0.430160\n",
      "1     12  0.357796\n",
      "2     12  0.357796\n",
      "3     13  0.321615\n",
      "4     12  0.357796\n",
      "5     11  0.393978\n",
      "6     14  0.285433\n",
      "7     13  0.321615\n"
     ]
    }
   ],
   "source": [
    "#lets remove the outliers using z-score from scipy\n",
    "data['z_score'] = np.abs(stats.zscore(data['value']))\n",
    "data = data[data['z_score']<=2]\n",
    "print(\"\\nData after removing outliers using scipy:\")\n",
    "print(data)"
   ]
  },
  {
   "cell_type": "markdown",
   "id": "20ede039",
   "metadata": {},
   "source": [
    "Lets Visulaize the Outliers using the diff Plots...."
   ]
  },
  {
   "cell_type": "code",
   "execution_count": 22,
   "id": "2950b779",
   "metadata": {},
   "outputs": [
    {
     "name": "stdout",
     "output_type": "stream",
     "text": [
      "Original Data:\n",
      "   value\n",
      "0     10\n",
      "1     12\n",
      "2     12\n",
      "3     13\n",
      "4     12\n",
      "5     11\n",
      "6     14\n",
      "7     13\n",
      "8    100\n"
     ]
    }
   ],
   "source": [
    "#data with outliers\n",
    "data = pd.DataFrame({'value': [10, 12, 12, 13, 12, 11, 14, 13, 100]})\n",
    "print(\"Original Data:\")\n",
    "print(data)"
   ]
  },
  {
   "cell_type": "code",
   "execution_count": 15,
   "id": "05e1be9e",
   "metadata": {},
   "outputs": [],
   "source": [
    "import matplotlib.pyplot as plt\n",
    "import seaborn as sns"
   ]
  },
  {
   "cell_type": "code",
   "execution_count": null,
   "id": "e522488a",
   "metadata": {},
   "outputs": [
    {
     "data": {
      "image/png": "[encoded data removed]",
      "text/plain": [
       "<Figure size 640x480 with 1 Axes>"
      ]
     },
     "metadata": {},
     "output_type": "display_data"
    },
    {
     "data": {
      "image/png": "[encoded data removed]",
      "text/plain": [
       "<Figure size 640x480 with 1 Axes>"
      ]
     },
     "metadata": {},
     "output_type": "display_data"
    },
    {
     "data": {
      "image/png": "[encoded data removed]",
      "text/plain": [
       "<Figure size 640x480 with 1 Axes>"
      ]
     },
     "metadata": {},
     "output_type": "display_data"
    }
   ],
   "source": [
    "#lets visulize the outliers\n",
    "\n",
    "#Hist Plot\n",
    "\n",
    "sns.histplot(data['value'], bins=10, kde=True)\n",
    "plt.title('Histogram')\n",
    "plt.xlabel('Value')\n",
    "plt.ylabel('Frequency')\n",
    "plt.show()\n",
    "\n",
    "#Box Plot\n",
    "sns.boxplot(x=data['value'])\n",
    "plt.title('Box Plot')\n",
    "plt.xlabel('Value')\n",
    "plt.show()\n",
    "\n",
    "#Scatter Plot\n",
    "plt.scatter(range(len(data)), data['value'])\n",
    "plt.title('Scatter Plot')\n",
    "plt.xlabel('Index')\n",
    "plt.ylabel('Value')\n",
    "plt.show()\n",
    "\n",
    "\n",
    "#in the plots below we can see that the value 100 is an outlier as it is far away from the other values\n",
    "#in histogram it is a separate peak and data is right skewed\n",
    "#in box plot it is a point outside the whiskers\n",
    "#in scatter plot it is a point far away from the other points"
   ]
  },
  {
   "cell_type": "markdown",
   "id": "6173d662",
   "metadata": {},
   "source": [
    "Now We will handle the Outliers using the IQR Method"
   ]
  },
  {
   "cell_type": "code",
   "execution_count": 25,
   "id": "b60f8d71",
   "metadata": {},
   "outputs": [
    {
     "name": "stdout",
     "output_type": "stream",
     "text": [
      "Original Data:\n",
      "   value\n",
      "0     10\n",
      "1     12\n",
      "2     12\n",
      "3     13\n",
      "4     12\n",
      "5     11\n",
      "6     14\n",
      "7     13\n",
      "8    100\n"
     ]
    }
   ],
   "source": [
    "#data with outliers\n",
    "data = pd.DataFrame({'value': [10, 12, 12, 13, 12, 11, 14, 13, 100]})\n",
    "print(\"Original Data:\")\n",
    "print(data)"
   ]
  },
  {
   "cell_type": "markdown",
   "id": "bf783311",
   "metadata": {},
   "source": [
    "Definition\n",
    "\n",
    "The IQR (Interquartile Range) is the range between the first quartile (Q1, 25th percentile) and the third quartile (Q3, 75th percentile) of a dataset.\n",
    "\n",
    "It measures the spread of the middle 50% of the data.\n",
    "\n",
    "𝐼\n",
    "𝑄\n",
    "𝑅\n",
    "=\n",
    "𝑄\n",
    "3\n",
    "−\n",
    "𝑄\n",
    "1\n",
    "IQR=Q3−Q1\n",
    "2. Outlier Detection Rule\n",
    "\n",
    "A data point is considered an outlier if it lies outside the range:\n",
    "\n",
    "Lower Bound\n",
    "=\n",
    "𝑄\n",
    "1\n",
    "−\n",
    "1.5\n",
    "×\n",
    "𝐼\n",
    "𝑄\n",
    "𝑅\n",
    "Lower Bound=Q1−1.5×IQR\n",
    "Upper Bound\n",
    "=\n",
    "𝑄\n",
    "3\n",
    "+\n",
    "1.5\n",
    "×\n",
    "𝐼\n",
    "𝑄\n",
    "𝑅\n",
    "Upper Bound=Q3+1.5×IQR\n",
    "\n",
    "Anything below Lower Bound → Outlier\n",
    "\n",
    "Anything above Upper Bound → Outlier"
   ]
  },
  {
   "cell_type": "code",
   "execution_count": 27,
   "id": "b8e68b0c",
   "metadata": {},
   "outputs": [
    {
     "name": "stdout",
     "output_type": "stream",
     "text": [
      "\n",
      "Data after removing outliers using IQR method:\n",
      "   value\n",
      "1     12\n",
      "2     12\n",
      "3     13\n",
      "4     12\n",
      "5     11\n",
      "6     14\n",
      "7     13\n"
     ]
    }
   ],
   "source": [
    "#lets handle the Outliers using the IQR Method\n",
    "\n",
    "#Box Plot show use the same IQR method to identify outliers\n",
    "#IQR = Q3 - Q1\n",
    "#Lower Bound = Q1 - 1.5 * IQR\n",
    "#Upper Bound = Q3 + 1.5 * IQR\n",
    "#Any data point outside this range is considered an outlier\n",
    "Q1 = data['value'].quantile(0.25)\n",
    "Q3 = data['value'].quantile(0.75)\n",
    "IQR = Q3 - Q1\n",
    "lower_bound = Q1 - 1.5 * IQR\n",
    "upper_bound = Q3 + 1.5 * IQR\n",
    "data = data[(data['value'] >= lower_bound) & (data['value'] <= upper_bound)]\n",
    "print(\"\\nData after removing outliers using IQR method:\")\n",
    "print(data)"
   ]
  },
  {
   "cell_type": "code",
   "execution_count": null,
   "id": "25d48480",
   "metadata": {},
   "outputs": [
    {
     "data": {
      "image/png": "[encoded data removed]",
      "text/plain": [
       "<Figure size 640x480 with 1 Axes>"
      ]
     },
     "metadata": {},
     "output_type": "display_data"
    }
   ],
   "source": [
    "#lets visualize the outliers using box plot after removing outliers using IQR method\n",
    "sns.boxplot(x=data['value'])\n",
    "plt.title('Box Plot after removing outliers using IQR method')\n",
    "plt.xlabel('Value')\n",
    "plt.show()\n",
    "\n",
    "#As you can see the outlier 100 is removed from the box plot"
   ]
  }
 ],
 "metadata": {
  "kernelspec": {
   "display_name": "venv",
   "language": "python",
   "name": "python3"
  },
  "language_info": {
   "codemirror_mode": {
    "name": "ipython",
    "version": 3
   },
   "file_extension": ".py",
   "mimetype": "text/x-python",
   "name": "python",
   "nbconvert_exporter": "python",
   "pygments_lexer": "ipython3",
   "version": "3.13.1"
  }
 },
 "nbformat": 4,
 "nbformat_minor": 5
}
